{
 "cells": [
  {
   "cell_type": "code",
   "execution_count": 2,
   "metadata": {},
   "outputs": [
    {
     "name": "stdout",
     "output_type": "stream",
     "text": [
      "Collecting pywhatkit\n",
      "  Downloading pywhatkit-3.8-py3-none-any.whl (7.8 kB)\n",
      "Collecting as\n",
      "  Downloading as-0.1-py3-none-any.whl (2.2 kB)\n",
      "Collecting kt\n",
      "  Downloading kt-0.9.6.tar.gz (216 kB)\n",
      "Requirement already satisfied: Pillow in c:\\users\\madhumitha\\desktop\\my_projects\\env\\lib\\site-packages (from pywhatkit) (8.0.1)\n",
      "Collecting requests\n",
      "  Downloading requests-2.25.1-py2.py3-none-any.whl (61 kB)\n",
      "Collecting pyautogui\n",
      "  Downloading PyAutoGUI-0.9.52.tar.gz (55 kB)\n",
      "Collecting wikipedia\n",
      "Note: you may need to restart the kernel to use updated packages.\n"
     ]
    },
    {
     "name": "stderr",
     "output_type": "stream",
     "text": [
      "  ERROR: Command errored out with exit status 1:\n",
      "   command: 'C:\\Users\\Madhumitha\\Desktop\\My_Projects\\env\\python.exe' -u -c 'import sys, setuptools, tokenize; sys.argv[0] = '\"'\"'C:\\\\Users\\\\Madhumitha\\\\AppData\\\\Local\\\\Temp\\\\pip-install-6no9qkuj\\\\kt\\\\setup.py'\"'\"'; __file__='\"'\"'C:\\\\Users\\\\Madhumitha\\\\AppData\\\\Local\\\\Temp\\\\pip-install-6no9qkuj\\\\kt\\\\setup.py'\"'\"';f=getattr(tokenize, '\"'\"'open'\"'\"', open)(__file__);code=f.read().replace('\"'\"'\\r\\n'\"'\"', '\"'\"'\\n'\"'\"');f.close();exec(compile(code, __file__, '\"'\"'exec'\"'\"'))' bdist_wheel -d 'C:\\Users\\Madhumitha\\AppData\\Local\\Temp\\pip-wheel-sp7x430w'\n",
      "       cwd: C:\\Users\\Madhumitha\\AppData\\Local\\Temp\\pip-install-6no9qkuj\\kt\\\n",
      "  Complete output (20 lines):\n",
      "  C:\\Users\\Madhumitha\\AppData\\Local\\Temp\\pip-install-6no9qkuj\\kt\\setup.py:11: UserWarning: Cython not installed, using pre-generated C source file.\n",
      "    warnings.warn('Cython not installed, using pre-generated C source file.')\n",
      "  C:\\Users\\Madhumitha\\AppData\\Local\\Temp\\pip-install-6no9qkuj\\kt\\setup.py:18: UserWarning: could not import kt module to determine version\n",
      "    warnings.warn('could not import kt module to determine version')\n"
     ]
    },
    {
     "name": "stdout",
     "output_type": "stream",
     "text": [
      "  Downloading wikipedia-1.4.0.tar.gz (27 kB)\n",
      "Collecting beautifulsoup4\n",
      "  Downloading beautifulsoup4-4.9.3-py3-none-any.whl (115 kB)\n",
      "Collecting idna<3,>=2.5\n",
      "  Downloading idna-2.10-py2.py3-none-any.whl (58 kB)\n",
      "Requirement already satisfied: certifi>=2017.4.17 in c:\\users\\madhumitha\\desktop\\my_projects\\env\\lib\\site-packages (from requests->pywhatkit) (2020.11.8)\n",
      "Collecting urllib3<1.27,>=1.21.1\n",
      "  Downloading urllib3-1.26.2-py2.py3-none-any.whl (136 kB)\n",
      "Collecting chardet<5,>=3.0.2\n",
      "  Downloading chardet-4.0.0-py2.py3-none-any.whl (178 kB)\n",
      "Collecting pymsgbox\n",
      "  Downloading PyMsgBox-1.0.9.tar.gz (18 kB)\n",
      "  Installing build dependencies: started\n",
      "  Installing build dependencies: finished with status 'done'\n",
      "  Getting requirements to build wheel: started\n",
      "  Getting requirements to build wheel: finished with status 'done'\n",
      "    Preparing wheel metadata: started\n",
      "    Preparing wheel metadata: finished with status 'done'\n",
      "Collecting PyTweening>=1.0.1\n",
      "  Downloading PyTweening-1.0.3.zip (15 kB)\n",
      "Collecting pyscreeze>=0.1.21\n",
      "  Downloading PyScreeze-0.1.26.tar.gz (23 kB)\n",
      "Collecting pygetwindow>=0.0.5\n",
      "  Downloading PyGetWindow-0.0.9.tar.gz (9.7 kB)\n",
      "Collecting mouseinfo\n",
      "  Downloading MouseInfo-0.1.3.tar.gz (10 kB)\n",
      "Collecting soupsieve>1.2; python_version >= \"3.0\"\n",
      "  Downloading soupsieve-2.1-py3-none-any.whl (32 kB)\n",
      "Collecting pyrect\n",
      "  Downloading PyRect-0.1.4.tar.gz (15 kB)\n",
      "Collecting pyperclip\n",
      "  Downloading pyperclip-1.8.1.tar.gz (20 kB)\n",
      "Building wheels for collected packages: kt, pyautogui, wikipedia, pymsgbox, PyTweening, pyscreeze, pygetwindow, mouseinfo, pyrect, pyperclip\n",
      "  Building wheel for kt (setup.py): started\n",
      "  Building wheel for kt (setup.py): finished with status 'error'\n",
      "  Running setup.py clean for kt\n",
      "  Building wheel for pyautogui (setup.py): started\n",
      "  Building wheel for pyautogui (setup.py): finished with status 'done'\n",
      "  Created wheel for pyautogui: filename=PyAutoGUI-0.9.52-py3-none-any.whl size=35198 sha256=7192f4b520ce483b7be1671fdd6ca8f13d1403bb07ca5f33d5e99d5782266dbd\n",
      "  Stored in directory: c:\\users\\madhumitha\\appdata\\local\\pip\\cache\\wheels\\4d\\0d\\6a\\4258cb741835ea9ce7897652ae88272d3baf5cb1944c1984aa\n",
      "  Building wheel for wikipedia (setup.py): started\n",
      "  Building wheel for wikipedia (setup.py): finished with status 'done'\n",
      "  Created wheel for wikipedia: filename=wikipedia-1.4.0-py3-none-any.whl size=11689 sha256=7b30b1e1a62040fcbc2cef3379dd834f33ce95f034a74d3ff4a05895de4b39ea\n",
      "  Stored in directory: c:\\users\\madhumitha\\appdata\\local\\pip\\cache\\wheels\\07\\93\\05\\72c05349177dca2e0ba31a33ba4f7907606f7ddef303517c6a\n",
      "  Building wheel for pymsgbox (PEP 517): started\n",
      "  Building wheel for pymsgbox (PEP 517): finished with status 'done'\n",
      "  Created wheel for pymsgbox: filename=PyMsgBox-1.0.9-py3-none-any.whl size=7420 sha256=067118bf35b476bea9cde2afcbe7cc7e82e5745ee9fcce59bf26b53331ecc6ac\n",
      "  Stored in directory: c:\\users\\madhumitha\\appdata\\local\\pip\\cache\\wheels\\91\\28\\0d\\f4eb606d38276836237d6dc2abf094241e6db5682a126e0389\n",
      "  Building wheel for PyTweening (setup.py): started\n",
      "  Building wheel for PyTweening (setup.py): finished with status 'done'\n",
      "  Created wheel for PyTweening: filename=PyTweening-1.0.3-py3-none-any.whl size=3820 sha256=5ac8b8afdbb252d42f35dbdea38f9a85e8905f46ede114a6256b07fc34fafa00\n",
      "  Stored in directory: c:\\users\\madhumitha\\appdata\\local\\pip\\cache\\wheels\\e7\\50\\20\\790fbd95739abfdf0348bef99d5cc0c7c2930a19a91f602ddc\n",
      "  Building wheel for pyscreeze (setup.py): started\n",
      "  Building wheel for pyscreeze (setup.py): finished with status 'done'\n",
      "  Created wheel for pyscreeze: filename=PyScreeze-0.1.26-py3-none-any.whl size=11937 sha256=f2dc8317d81b4cba808bea5d68023ca303a3cb3ac98557b6bf97a141925b2cf6\n",
      "  Stored in directory: c:\\users\\madhumitha\\appdata\\local\\pip\\cache\\wheels\\b9\\1c\\f2\\f6a3a846873ff464c47a46baa7edc12fb5f266d296494201fe\n",
      "  Building wheel for pygetwindow (setup.py): started\n",
      "  Building wheel for pygetwindow (setup.py): finished with status 'done'\n",
      "  Created wheel for pygetwindow: filename=PyGetWindow-0.0.9-py3-none-any.whl size=11084 sha256=c2f6f2cfd9e1c732b5490f93c3de21c75d64bcc0cf87de835240211172c79d27\n",
      "  Stored in directory: c:\\users\\madhumitha\\appdata\\local\\pip\\cache\\wheels\\91\\e3\\04\\184bda98ec7f7d5f0ba1f372bcf7b3ba86325151ae1dd690fe\n",
      "  Building wheel for mouseinfo (setup.py): started\n",
      "  Building wheel for mouseinfo (setup.py): finished with status 'done'\n",
      "  Created wheel for mouseinfo: filename=MouseInfo-0.1.3-py3-none-any.whl size=10910 sha256=5ce735c5dac1774aeef87d8a43c0a95374faf75eca810a7b38be0f3df074a550\n",
      "  Stored in directory: c:\\users\\madhumitha\\appdata\\local\\pip\\cache\\wheels\\d1\\72\\fb\\35f403de66285df8ecca7049bcc61bfb57aba0f76d1f08f7eb\n",
      "  Building wheel for pyrect (setup.py): started\n",
      "  Building wheel for pyrect (setup.py): finished with status 'done'\n",
      "  Created wheel for pyrect: filename=PyRect-0.1.4-py2.py3-none-any.whl size=9552 sha256=35792d770e316a9039b41ab43fc195bd15bc80ac6f6858512111c13d3d087a67\n",
      "  Stored in directory: c:\\users\\madhumitha\\appdata\\local\\pip\\cache\\wheels\\d1\\e4\\47\\c62f8291b16b6df7e89ac885881ff71f35ca04c6e384251de9\n",
      "  Building wheel for pyperclip (setup.py): started\n",
      "  Building wheel for pyperclip (setup.py): finished with status 'done'\n",
      "  Created wheel for pyperclip: filename=pyperclip-1.8.1-py3-none-any.whl size=11124 sha256=499fd3499305abd0d2d118fbb3ec68fc87b6f1bf9f77e7afdb1dddc0d2269cfe\n",
      "  Stored in directory: c:\\users\\madhumitha\\appdata\\local\\pip\\cache\\wheels\\67\\0c\\ba\\1468f38115898442e13f99a19a8dcf1e0ca73488053ef7b388\n",
      "Successfully built pyautogui wikipedia pymsgbox PyTweening pyscreeze pygetwindow mouseinfo pyrect pyperclip\n",
      "Failed to build kt\n",
      "Installing collected packages: idna, urllib3, chardet, requests, pymsgbox, PyTweening, pyscreeze, pyrect, pygetwindow, pyperclip, mouseinfo, pyautogui, soupsieve, beautifulsoup4, wikipedia, pywhatkit, as, kt\n",
      "    Running setup.py install for kt: started\n",
      "    Running setup.py install for kt: finished with status 'error'\n"
     ]
    },
    {
     "name": "stderr",
     "output_type": "stream",
     "text": [
      "  running bdist_wheel\n",
      "  running build\n",
      "  running build_py\n",
      "  creating build\n",
      "  creating build\\lib.win-amd64-3.8\n",
      "  creating build\\lib.win-amd64-3.8\\kt\n",
      "  copying kt\\client.py -> build\\lib.win-amd64-3.8\\kt\n",
      "  copying kt\\constants.py -> build\\lib.win-amd64-3.8\\kt\n",
      "  copying kt\\embedded.py -> build\\lib.win-amd64-3.8\\kt\n",
      "  copying kt\\exceptions.py -> build\\lib.win-amd64-3.8\\kt\n",
      "  copying kt\\http.py -> build\\lib.win-amd64-3.8\\kt\n",
      "  copying kt\\models.py -> build\\lib.win-amd64-3.8\\kt\n",
      "  copying kt\\__init__.py -> build\\lib.win-amd64-3.8\\kt\n",
      "  running build_ext\n",
      "  building 'kt._binary' extension\n",
      "  error: Microsoft Visual C++ 14.0 or greater is required. Get it with \"Microsoft C++ Build Tools\": https://visualstudio.microsoft.com/visual-cpp-build-tools/\n",
      "  ----------------------------------------\n",
      "  ERROR: Failed building wheel for kt\n",
      "    ERROR: Command errored out with exit status 1:\n",
      "     command: 'C:\\Users\\Madhumitha\\Desktop\\My_Projects\\env\\python.exe' -u -c 'import sys, setuptools, tokenize; sys.argv[0] = '\"'\"'C:\\\\Users\\\\Madhumitha\\\\AppData\\\\Local\\\\Temp\\\\pip-install-6no9qkuj\\\\kt\\\\setup.py'\"'\"'; __file__='\"'\"'C:\\\\Users\\\\Madhumitha\\\\AppData\\\\Local\\\\Temp\\\\pip-install-6no9qkuj\\\\kt\\\\setup.py'\"'\"';f=getattr(tokenize, '\"'\"'open'\"'\"', open)(__file__);code=f.read().replace('\"'\"'\\r\\n'\"'\"', '\"'\"'\\n'\"'\"');f.close();exec(compile(code, __file__, '\"'\"'exec'\"'\"'))' install --record 'C:\\Users\\Madhumitha\\AppData\\Local\\Temp\\pip-record-j_gnxgsc\\install-record.txt' --single-version-externally-managed --compile --install-headers 'C:\\Users\\Madhumitha\\Desktop\\My_Projects\\env\\Include\\kt'\n",
      "         cwd: C:\\Users\\Madhumitha\\AppData\\Local\\Temp\\pip-install-6no9qkuj\\kt\\\n",
      "    Complete output (20 lines):\n",
      "    C:\\Users\\Madhumitha\\AppData\\Local\\Temp\\pip-install-6no9qkuj\\kt\\setup.py:11: UserWarning: Cython not installed, using pre-generated C source file.\n",
      "      warnings.warn('Cython not installed, using pre-generated C source file.')\n",
      "    C:\\Users\\Madhumitha\\AppData\\Local\\Temp\\pip-install-6no9qkuj\\kt\\setup.py:18: UserWarning: could not import kt module to determine version\n",
      "      warnings.warn('could not import kt module to determine version')\n",
      "    running install\n",
      "    running build\n",
      "    running build_py\n",
      "    creating build\n",
      "    creating build\\lib.win-amd64-3.8\n",
      "    creating build\\lib.win-amd64-3.8\\kt\n",
      "    copying kt\\client.py -> build\\lib.win-amd64-3.8\\kt\n",
      "    copying kt\\constants.py -> build\\lib.win-amd64-3.8\\kt\n",
      "    copying kt\\embedded.py -> build\\lib.win-amd64-3.8\\kt\n",
      "    copying kt\\exceptions.py -> build\\lib.win-amd64-3.8\\kt\n",
      "    copying kt\\http.py -> build\\lib.win-amd64-3.8\\kt\n",
      "    copying kt\\models.py -> build\\lib.win-amd64-3.8\\kt\n",
      "    copying kt\\__init__.py -> build\\lib.win-amd64-3.8\\kt\n",
      "    running build_ext\n",
      "    building 'kt._binary' extension\n",
      "    error: Microsoft Visual C++ 14.0 or greater is required. Get it with \"Microsoft C++ Build Tools\": https://visualstudio.microsoft.com/visual-cpp-build-tools/\n",
      "    ----------------------------------------\n",
      "ERROR: Command errored out with exit status 1: 'C:\\Users\\Madhumitha\\Desktop\\My_Projects\\env\\python.exe' -u -c 'import sys, setuptools, tokenize; sys.argv[0] = '\"'\"'C:\\\\Users\\\\Madhumitha\\\\AppData\\\\Local\\\\Temp\\\\pip-install-6no9qkuj\\\\kt\\\\setup.py'\"'\"'; __file__='\"'\"'C:\\\\Users\\\\Madhumitha\\\\AppData\\\\Local\\\\Temp\\\\pip-install-6no9qkuj\\\\kt\\\\setup.py'\"'\"';f=getattr(tokenize, '\"'\"'open'\"'\"', open)(__file__);code=f.read().replace('\"'\"'\\r\\n'\"'\"', '\"'\"'\\n'\"'\"');f.close();exec(compile(code, __file__, '\"'\"'exec'\"'\"'))' install --record 'C:\\Users\\Madhumitha\\AppData\\Local\\Temp\\pip-record-j_gnxgsc\\install-record.txt' --single-version-externally-managed --compile --install-headers 'C:\\Users\\Madhumitha\\Desktop\\My_Projects\\env\\Include\\kt' Check the logs for full command output.\n"
     ]
    }
   ],
   "source": [
    "# install the python required python library\n",
    "pip install pywhatkit as kt"
   ]
  },
  {
   "cell_type": "code",
   "execution_count": 3,
   "metadata": {},
   "outputs": [
    {
     "name": "stdout",
     "output_type": "stream",
     "text": [
      "Hello from the creator of pywhatkit, Ankit Raj Mahapatra.\n",
      "Kindly do report bugs if any\n",
      "What's new:\n",
      "1. Fixed text_to_handwriting() function.\n",
      "2. Added pywhatkit.help.<function name> for ease of use.\n",
      "3. Added feature to schedule message in a group.\n"
     ]
    }
   ],
   "source": [
    "# import the module\n",
    "import pywhatkit as kt"
   ]
  },
  {
   "cell_type": "code",
   "execution_count": 17,
   "metadata": {},
   "outputs": [],
   "source": [
    "# add source and target path\n",
    "source_path = 'my_image.png'\n",
    "target_path = 'ascii_art_3.text'"
   ]
  },
  {
   "cell_type": "code",
   "execution_count": 18,
   "metadata": {},
   "outputs": [
    {
     "data": {
      "text/plain": [
       "'................................................................................\\n................................................................................\\n................................................................................\\n..........................:!!**$@@@$$%:.........................................\\n........................:%@&####S#####&!........................................\\n.....................:%$&&######SSSSS##@*:......................................\\n.................:!*%&&&###&####SSSSSS###&%.....................................\\n................:%$@&&&&&###SSSSSSSSSSS#&&&%:...................................\\n..............:!%@&&@@&&#####SSSSSSSSSSS#&&&$...................................\\n.............:*$@&@@@&&##&##SSSSSSSS**SS##&##$:.................................\\n............:!$@@$$@&&&&&&##SSSSSSSS*SS####SS#$*:...............................\\n...........:*$$$%$@&@@@&##SSSS**SS*SSS##SSSSSSSS&:..............................\\n..........:*%%*%$$%%$@&#SSS****SSSSSS####SSSSSSSS&!.............................\\n..........*%%**%%**$&#SSSS***SSS###&&&&&&&##SSSSSS#:............................\\n.........:%%****%$@&#SSSSSSSSS##&&@@@@@@@@@&#SSSSS*#!...........................\\n.........!$%***%@@&#SSSSSS###&&@@@$$$$$$$$@@@&#SSSS*S$!:........................\\n.........*$%%%%$@@&#SSSSS##&&@@$$$%%%%%%$$$$@@@&&#S*S*S&!.......................\\n.........%$$$$%%$&#SSSS###&@@@$$%%%%%%%%%%$$$@@&&&#SSS**&:......................\\n........:$$$$%%%@&SSSSS#&&@@$$$%%%%****%%%%$@#S##&&&#SS*S$:.....................\\n........:$$$%%*%@&S*SS#&&@$$$%%%%%********%&#&@$$@@@@&#**#!.....................\\n........:@@$%%*$@#S*SS#&@$$%%%%%%********%&#@$@&##&@@@@#**#%....................\\n........:@@$$*%$&S*SSS#&@$%%%%%%******!*%@&@@&#@$&&@@$$@&**S%...................\\n........:@@@$*%@#SSSSS#&@$%%%**********%$$$@@&S@$@@$$$$$$#***$:.................\\n.........*@@$%$&SS#SSSS#&@$%*******%%*%%$@@&$@@@$$$%%%%%$@***S*.................\\n.........:%@$$@#SS#SSSSS#&$$%$@@@$$%%***%@@&@$$$%%%**%%%$$#***%.................\\n..........:$$$&##SS#SSSSS####&&@@@$$%*!!*%$@@$$%%%****%%$$@#**#*................\\n...........!$@&S#SSSSSSSS*S#&@@&#&$@$%*!!!*%$$$%%******%%$@#**S!................\\n............%@&#SSS#SSSSSSS#####S&$@$%*!!!!*%$$$$%*****%%$$@**#:................\\n............*&&#SSS#SSS##SSS**#&@$$%%**!!!::!*%$%$%****%%%$@S*$.................\\n............!@&&#SSS#SSSSSSSSS&$$%%***!!!!:::!*$$$$%%%%%%%$@SS$!................\\n............:$&&&###S##SSSSSS#@$%%***!**!!:!!!*%$$$$$$$$%%$@SSSS%*!!::..........\\n...........::%&&&&###SS##SSSS&@%***!!!!*!!!***%**%$$@&@$%%$&*SSS**#@@$$$$$$$%**!\\n.........:!!*$&&&&&###SSS##SS#@$%!!!!!!*!!!!**%%*%$@@@$$$$@#*****S@@$$$$$@@@$$@@\\n........:!!!!%@&&&#&#&#SSS##SS&@%*!!!!**!!!*****%**%$$$$$$&S**SS#@$$$$%%$&&@@@@$\\n........::!!!*$&#####&&#SSSS##S#$%*!!!***%%%*******%%%%%$@&###&@@$$%%%%%@&&@@&$%\\n.........::!*%$@#####S#&#SSS###SS@$%***!*%*!!!!********%$@&&&@@$$$%%%%%%&@@@@@$%\\n..........:!*%%$@#S#SSSSSSSSS###*S#@$%****!!!!!!!:!!!**%@@$$$$$$%%%%%%%$@%@$@$$$\\n.........:!****%$@&#SSSSSSSSS#&#SSS**S&@$%%**!!!!!!***%$$$$%%%%%%%%***%@$%$$@$%%\\n........:!***!!*$@@$&SSSS**SSS&@#SSS*****S#&@@$$%%%%%%%%%%%%%%%%******%$%%$$%%%%\\n.......::!**!!*%$@$@#SSSSSS##S#&&#SSS*******S#&@$$$%%%%%%%%%%******!!%%%%******%\\n.:.....:!***!!*%$@@#SSSSSSS#SSS&#SSSSS********#&@$%%%%%%%%%****!!!!!*%**%*!!*!!!\\n......::!**!!**%@&#SS**SSSSSS**##SSSSSS********#&@$%%%******!!!!!!:!%***%!!!!!!!\\n!:....::!*!!!*%$@&#SS****SSS***SSSSSSSS********S&@$%%****!!!!!!:::!%*****!!!*!:!\\n*:...::!!!!!!*%$@#SS******SS***SSSSSSSSS*******S&@$%***!!!!!!::::!**!***%!!*!*!!\\n!....::!!!:!!*%$@&#S*******S***SSSS##SS********S#@$%**!!!!!:::!!***!!*!*%!!!!!!!\\n!....::!!::!!*%$@&S#S***********SSS#SSS***S****S#&@%%*!!!:::!*****!!!!!***!!!!!!\\n*...:::!::!!*%%$&S##S**********S*SSSSS**SSS***SS#&@$%*!!::!%$%*%****!!!!%$!::!!!\\n*:::::!!!!!*%$@&SS#*************SSSSS**SSS****S####&$****%%%%***%%%*!!:!%%$::*:%\\n!*!:!!!!**%$$@@&#&#************SSS#S***S#SS***S#&#SS&$$$%%*********!!:!*&%@%!%*%\\n:!%*!!!****%%$$@@&#S***********SS#S***SSSS*SSSS&@@##&@$%%%%****!!!*!!:!!&&%&*$*!\\n..:*$$%%****%$$%$@&#S**********S#S**S*SSSS**S###&@&&@$%*******!!!!**!::!&#%$@@%*\\n....%S#&@%%%$$$@@@&&#*********SSS***SSSSSSSSS####&@@$$%***%***!!!*%%!::!@&$!$#$!\\n:::.:%##&&@@@$@&&@&&#********SS****SSS*SSSSSSS###&@$$%%%*%%***!!***!!::!$$%*!@@!\\n::....!@##&@@%@&@@&@#************S*SSS*SSSSSSSS#&&&@@@%%%%%*%****%*!::::$$%***&*\\n:::.::::*$@@$%$&&&&@#************SSSSSSSSSSS####@&#&@$$%%%%%%***%*!!:::!%$****@@\\n::!:.::::::!%%%&&&&&#************SSSSS*SSSS#S##&&@@@$$$$%*%%*!!***!!:::!%$*!!%@&\\n:!!!!:::::!!*%$&&&@@#************SSS*SS*#S#SS##@&@@@$$$%%%%*!!!!:::!!:::%$%!:!@@\\n.:!!!!:!!!!!%*$#&@@&#S***********SSS*SSSS#SSSS#@@@@$$$$$%%%*****!::!!!::%@%*:!$&\\n..::!!!!!!**%*$S#@&##S***********SSS*S##S#S###&@@&@@@@$$%%%%%%%%**!!*!:.*$$%!!$#\\n......::::::::!%%*$$&#S**********SS**S####SS#&&&&&&@@@$$%%$$@$$*****!!::%$@$**@#\\n....................::!!*$@&&####&&##&@@@&&&&&@@@$$%%**!!!!!!!!!!!!!::::***%%$&&'"
      ]
     },
     "execution_count": 18,
     "metadata": {},
     "output_type": "execute_result"
    }
   ],
   "source": [
    "# call the method\n",
    "kt.image_to_ascii_art(source_path, target_path)"
   ]
  },
  {
   "cell_type": "code",
   "execution_count": null,
   "metadata": {},
   "outputs": [],
   "source": []
  },
  {
   "cell_type": "code",
   "execution_count": 9,
   "metadata": {},
   "outputs": [],
   "source": []
  },
  {
   "cell_type": "code",
   "execution_count": 10,
   "metadata": {},
   "outputs": [],
   "source": []
  },
  {
   "cell_type": "code",
   "execution_count": 11,
   "metadata": {},
   "outputs": [],
   "source": []
  },
  {
   "cell_type": "code",
   "execution_count": 12,
   "metadata": {},
   "outputs": [],
   "source": []
  },
  {
   "cell_type": "code",
   "execution_count": 13,
   "metadata": {},
   "outputs": [],
   "source": []
  },
  {
   "cell_type": "code",
   "execution_count": 14,
   "metadata": {},
   "outputs": [],
   "source": []
  },
  {
   "cell_type": "code",
   "execution_count": null,
   "metadata": {},
   "outputs": [],
   "source": []
  },
  {
   "cell_type": "code",
   "execution_count": 16,
   "metadata": {},
   "outputs": [],
   "source": []
  },
  {
   "cell_type": "code",
   "execution_count": null,
   "metadata": {},
   "outputs": [],
   "source": []
  }
 ],
 "metadata": {
  "kernelspec": {
   "display_name": "Python 3",
   "language": "python",
   "name": "python3"
  },
  "language_info": {
   "codemirror_mode": {
    "name": "ipython",
    "version": 3
   },
   "file_extension": ".py",
   "mimetype": "text/x-python",
   "name": "python",
   "nbconvert_exporter": "python",
   "pygments_lexer": "ipython3",
   "version": "3.8.5"
  }
 },
 "nbformat": 4,
 "nbformat_minor": 4
}
